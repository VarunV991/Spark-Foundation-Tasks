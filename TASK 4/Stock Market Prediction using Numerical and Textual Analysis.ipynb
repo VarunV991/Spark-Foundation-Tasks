{
 "cells": [
  {
   "cell_type": "code",
   "execution_count": 138,
   "metadata": {},
   "outputs": [
    {
     "name": "stderr",
     "output_type": "stream",
     "text": [
      "/home/nurav/anaconda3/envs/venv/lib/python3.7/site-packages/ipykernel_launcher.py:5: FutureWarning: The pandas.datetime class is deprecated and will be removed from pandas in a future version. Import from datetime module instead.\n",
      "  \"\"\"\n"
     ]
    }
   ],
   "source": [
    "import numpy as np \n",
    "import pandas as pd \n",
    "import matplotlib.pyplot as plt\n",
    "from pandas.plotting import lag_plot\n",
    "from pandas import datetime\n",
    "from statsmodels.tsa.arima_model import ARIMA\n",
    "from sklearn.metrics import mean_squared_error\n",
    "\n",
    "%matplotlib inline"
   ]
  },
  {
   "cell_type": "code",
   "execution_count": 139,
   "metadata": {},
   "outputs": [],
   "source": [
    "df = pd.read_csv(\"historical_data.csv\")"
   ]
  },
  {
   "cell_type": "code",
   "execution_count": 140,
   "metadata": {},
   "outputs": [
    {
     "data": {
      "text/html": [
       "<div>\n",
       "<style scoped>\n",
       "    .dataframe tbody tr th:only-of-type {\n",
       "        vertical-align: middle;\n",
       "    }\n",
       "\n",
       "    .dataframe tbody tr th {\n",
       "        vertical-align: top;\n",
       "    }\n",
       "\n",
       "    .dataframe thead th {\n",
       "        text-align: right;\n",
       "    }\n",
       "</style>\n",
       "<table border=\"1\" class=\"dataframe\">\n",
       "  <thead>\n",
       "    <tr style=\"text-align: right;\">\n",
       "      <th></th>\n",
       "      <th>Date</th>\n",
       "      <th>Open</th>\n",
       "      <th>High</th>\n",
       "      <th>Low</th>\n",
       "      <th>Close</th>\n",
       "      <th>Adj Close</th>\n",
       "      <th>Volume</th>\n",
       "    </tr>\n",
       "  </thead>\n",
       "  <tbody>\n",
       "    <tr>\n",
       "      <th>0</th>\n",
       "      <td>2019-10-07</td>\n",
       "      <td>37853.800781</td>\n",
       "      <td>37919.468750</td>\n",
       "      <td>37480.531250</td>\n",
       "      <td>37531.980469</td>\n",
       "      <td>37531.980469</td>\n",
       "      <td>40400.0</td>\n",
       "    </tr>\n",
       "    <tr>\n",
       "      <th>1</th>\n",
       "      <td>2019-10-09</td>\n",
       "      <td>37628.050781</td>\n",
       "      <td>38209.839844</td>\n",
       "      <td>37415.828125</td>\n",
       "      <td>38177.949219</td>\n",
       "      <td>38177.949219</td>\n",
       "      <td>36400.0</td>\n",
       "    </tr>\n",
       "    <tr>\n",
       "      <th>2</th>\n",
       "      <td>2019-10-10</td>\n",
       "      <td>38130.230469</td>\n",
       "      <td>38130.230469</td>\n",
       "      <td>37802.929688</td>\n",
       "      <td>37880.398438</td>\n",
       "      <td>37880.398438</td>\n",
       "      <td>27300.0</td>\n",
       "    </tr>\n",
       "    <tr>\n",
       "      <th>3</th>\n",
       "      <td>2019-10-11</td>\n",
       "      <td>37994.480469</td>\n",
       "      <td>38345.410156</td>\n",
       "      <td>37737.851563</td>\n",
       "      <td>38127.078125</td>\n",
       "      <td>38127.078125</td>\n",
       "      <td>39400.0</td>\n",
       "    </tr>\n",
       "    <tr>\n",
       "      <th>4</th>\n",
       "      <td>2019-10-14</td>\n",
       "      <td>38208.238281</td>\n",
       "      <td>38513.691406</td>\n",
       "      <td>38066.128906</td>\n",
       "      <td>38214.468750</td>\n",
       "      <td>38214.468750</td>\n",
       "      <td>28500.0</td>\n",
       "    </tr>\n",
       "  </tbody>\n",
       "</table>\n",
       "</div>"
      ],
      "text/plain": [
       "         Date          Open          High           Low         Close  \\\n",
       "0  2019-10-07  37853.800781  37919.468750  37480.531250  37531.980469   \n",
       "1  2019-10-09  37628.050781  38209.839844  37415.828125  38177.949219   \n",
       "2  2019-10-10  38130.230469  38130.230469  37802.929688  37880.398438   \n",
       "3  2019-10-11  37994.480469  38345.410156  37737.851563  38127.078125   \n",
       "4  2019-10-14  38208.238281  38513.691406  38066.128906  38214.468750   \n",
       "\n",
       "      Adj Close   Volume  \n",
       "0  37531.980469  40400.0  \n",
       "1  38177.949219  36400.0  \n",
       "2  37880.398438  27300.0  \n",
       "3  38127.078125  39400.0  \n",
       "4  38214.468750  28500.0  "
      ]
     },
     "execution_count": 140,
     "metadata": {},
     "output_type": "execute_result"
    }
   ],
   "source": [
    "df.head()"
   ]
  },
  {
   "cell_type": "code",
   "execution_count": 141,
   "metadata": {},
   "outputs": [
    {
     "data": {
      "text/plain": [
       "str"
      ]
     },
     "execution_count": 141,
     "metadata": {},
     "output_type": "execute_result"
    }
   ],
   "source": [
    "type(df['Date'][0])"
   ]
  },
  {
   "cell_type": "code",
   "execution_count": 142,
   "metadata": {},
   "outputs": [],
   "source": [
    "df['Date'] = pd.to_datetime(df['Date'])"
   ]
  },
  {
   "cell_type": "code",
   "execution_count": 143,
   "metadata": {},
   "outputs": [
    {
     "data": {
      "text/html": [
       "<div>\n",
       "<style scoped>\n",
       "    .dataframe tbody tr th:only-of-type {\n",
       "        vertical-align: middle;\n",
       "    }\n",
       "\n",
       "    .dataframe tbody tr th {\n",
       "        vertical-align: top;\n",
       "    }\n",
       "\n",
       "    .dataframe thead th {\n",
       "        text-align: right;\n",
       "    }\n",
       "</style>\n",
       "<table border=\"1\" class=\"dataframe\">\n",
       "  <thead>\n",
       "    <tr style=\"text-align: right;\">\n",
       "      <th></th>\n",
       "      <th>Date</th>\n",
       "      <th>Open</th>\n",
       "      <th>High</th>\n",
       "      <th>Low</th>\n",
       "      <th>Close</th>\n",
       "      <th>Adj Close</th>\n",
       "      <th>Volume</th>\n",
       "    </tr>\n",
       "  </thead>\n",
       "  <tbody>\n",
       "    <tr>\n",
       "      <th>0</th>\n",
       "      <td>2019-10-07</td>\n",
       "      <td>37853.800781</td>\n",
       "      <td>37919.468750</td>\n",
       "      <td>37480.531250</td>\n",
       "      <td>37531.980469</td>\n",
       "      <td>37531.980469</td>\n",
       "      <td>40400.0</td>\n",
       "    </tr>\n",
       "    <tr>\n",
       "      <th>1</th>\n",
       "      <td>2019-10-09</td>\n",
       "      <td>37628.050781</td>\n",
       "      <td>38209.839844</td>\n",
       "      <td>37415.828125</td>\n",
       "      <td>38177.949219</td>\n",
       "      <td>38177.949219</td>\n",
       "      <td>36400.0</td>\n",
       "    </tr>\n",
       "    <tr>\n",
       "      <th>2</th>\n",
       "      <td>2019-10-10</td>\n",
       "      <td>38130.230469</td>\n",
       "      <td>38130.230469</td>\n",
       "      <td>37802.929688</td>\n",
       "      <td>37880.398438</td>\n",
       "      <td>37880.398438</td>\n",
       "      <td>27300.0</td>\n",
       "    </tr>\n",
       "    <tr>\n",
       "      <th>3</th>\n",
       "      <td>2019-10-11</td>\n",
       "      <td>37994.480469</td>\n",
       "      <td>38345.410156</td>\n",
       "      <td>37737.851563</td>\n",
       "      <td>38127.078125</td>\n",
       "      <td>38127.078125</td>\n",
       "      <td>39400.0</td>\n",
       "    </tr>\n",
       "    <tr>\n",
       "      <th>4</th>\n",
       "      <td>2019-10-14</td>\n",
       "      <td>38208.238281</td>\n",
       "      <td>38513.691406</td>\n",
       "      <td>38066.128906</td>\n",
       "      <td>38214.468750</td>\n",
       "      <td>38214.468750</td>\n",
       "      <td>28500.0</td>\n",
       "    </tr>\n",
       "  </tbody>\n",
       "</table>\n",
       "</div>"
      ],
      "text/plain": [
       "        Date          Open          High           Low         Close  \\\n",
       "0 2019-10-07  37853.800781  37919.468750  37480.531250  37531.980469   \n",
       "1 2019-10-09  37628.050781  38209.839844  37415.828125  38177.949219   \n",
       "2 2019-10-10  38130.230469  38130.230469  37802.929688  37880.398438   \n",
       "3 2019-10-11  37994.480469  38345.410156  37737.851563  38127.078125   \n",
       "4 2019-10-14  38208.238281  38513.691406  38066.128906  38214.468750   \n",
       "\n",
       "      Adj Close   Volume  \n",
       "0  37531.980469  40400.0  \n",
       "1  38177.949219  36400.0  \n",
       "2  37880.398438  27300.0  \n",
       "3  38127.078125  39400.0  \n",
       "4  38214.468750  28500.0  "
      ]
     },
     "execution_count": 143,
     "metadata": {},
     "output_type": "execute_result"
    }
   ],
   "source": [
    "df.head()"
   ]
  },
  {
   "cell_type": "code",
   "execution_count": 144,
   "metadata": {},
   "outputs": [],
   "source": [
    "df.set_index('Date',inplace=True,drop=False)"
   ]
  },
  {
   "cell_type": "code",
   "execution_count": 145,
   "metadata": {},
   "outputs": [],
   "source": [
    "df.dropna(inplace=True)"
   ]
  },
  {
   "cell_type": "code",
   "execution_count": 146,
   "metadata": {},
   "outputs": [
    {
     "data": {
      "text/html": [
       "<div>\n",
       "<style scoped>\n",
       "    .dataframe tbody tr th:only-of-type {\n",
       "        vertical-align: middle;\n",
       "    }\n",
       "\n",
       "    .dataframe tbody tr th {\n",
       "        vertical-align: top;\n",
       "    }\n",
       "\n",
       "    .dataframe thead th {\n",
       "        text-align: right;\n",
       "    }\n",
       "</style>\n",
       "<table border=\"1\" class=\"dataframe\">\n",
       "  <thead>\n",
       "    <tr style=\"text-align: right;\">\n",
       "      <th></th>\n",
       "      <th>Date</th>\n",
       "      <th>Open</th>\n",
       "      <th>High</th>\n",
       "      <th>Low</th>\n",
       "      <th>Close</th>\n",
       "      <th>Adj Close</th>\n",
       "      <th>Volume</th>\n",
       "    </tr>\n",
       "    <tr>\n",
       "      <th>Date</th>\n",
       "      <th></th>\n",
       "      <th></th>\n",
       "      <th></th>\n",
       "      <th></th>\n",
       "      <th></th>\n",
       "      <th></th>\n",
       "      <th></th>\n",
       "    </tr>\n",
       "  </thead>\n",
       "  <tbody>\n",
       "    <tr>\n",
       "      <th>2019-10-07</th>\n",
       "      <td>2019-10-07</td>\n",
       "      <td>37853.800781</td>\n",
       "      <td>37919.468750</td>\n",
       "      <td>37480.531250</td>\n",
       "      <td>37531.980469</td>\n",
       "      <td>37531.980469</td>\n",
       "      <td>40400.0</td>\n",
       "    </tr>\n",
       "    <tr>\n",
       "      <th>2019-10-09</th>\n",
       "      <td>2019-10-09</td>\n",
       "      <td>37628.050781</td>\n",
       "      <td>38209.839844</td>\n",
       "      <td>37415.828125</td>\n",
       "      <td>38177.949219</td>\n",
       "      <td>38177.949219</td>\n",
       "      <td>36400.0</td>\n",
       "    </tr>\n",
       "    <tr>\n",
       "      <th>2019-10-10</th>\n",
       "      <td>2019-10-10</td>\n",
       "      <td>38130.230469</td>\n",
       "      <td>38130.230469</td>\n",
       "      <td>37802.929688</td>\n",
       "      <td>37880.398438</td>\n",
       "      <td>37880.398438</td>\n",
       "      <td>27300.0</td>\n",
       "    </tr>\n",
       "    <tr>\n",
       "      <th>2019-10-11</th>\n",
       "      <td>2019-10-11</td>\n",
       "      <td>37994.480469</td>\n",
       "      <td>38345.410156</td>\n",
       "      <td>37737.851563</td>\n",
       "      <td>38127.078125</td>\n",
       "      <td>38127.078125</td>\n",
       "      <td>39400.0</td>\n",
       "    </tr>\n",
       "    <tr>\n",
       "      <th>2019-10-14</th>\n",
       "      <td>2019-10-14</td>\n",
       "      <td>38208.238281</td>\n",
       "      <td>38513.691406</td>\n",
       "      <td>38066.128906</td>\n",
       "      <td>38214.468750</td>\n",
       "      <td>38214.468750</td>\n",
       "      <td>28500.0</td>\n",
       "    </tr>\n",
       "  </tbody>\n",
       "</table>\n",
       "</div>"
      ],
      "text/plain": [
       "                 Date          Open          High           Low         Close  \\\n",
       "Date                                                                            \n",
       "2019-10-07 2019-10-07  37853.800781  37919.468750  37480.531250  37531.980469   \n",
       "2019-10-09 2019-10-09  37628.050781  38209.839844  37415.828125  38177.949219   \n",
       "2019-10-10 2019-10-10  38130.230469  38130.230469  37802.929688  37880.398438   \n",
       "2019-10-11 2019-10-11  37994.480469  38345.410156  37737.851563  38127.078125   \n",
       "2019-10-14 2019-10-14  38208.238281  38513.691406  38066.128906  38214.468750   \n",
       "\n",
       "               Adj Close   Volume  \n",
       "Date                               \n",
       "2019-10-07  37531.980469  40400.0  \n",
       "2019-10-09  38177.949219  36400.0  \n",
       "2019-10-10  37880.398438  27300.0  \n",
       "2019-10-11  38127.078125  39400.0  \n",
       "2019-10-14  38214.468750  28500.0  "
      ]
     },
     "execution_count": 146,
     "metadata": {},
     "output_type": "execute_result"
    }
   ],
   "source": [
    "df.head()"
   ]
  },
  {
   "cell_type": "code",
   "execution_count": 147,
   "metadata": {},
   "outputs": [
    {
     "data": {
      "text/html": [
       "<div>\n",
       "<style scoped>\n",
       "    .dataframe tbody tr th:only-of-type {\n",
       "        vertical-align: middle;\n",
       "    }\n",
       "\n",
       "    .dataframe tbody tr th {\n",
       "        vertical-align: top;\n",
       "    }\n",
       "\n",
       "    .dataframe thead th {\n",
       "        text-align: right;\n",
       "    }\n",
       "</style>\n",
       "<table border=\"1\" class=\"dataframe\">\n",
       "  <thead>\n",
       "    <tr style=\"text-align: right;\">\n",
       "      <th></th>\n",
       "      <th>Open</th>\n",
       "      <th>High</th>\n",
       "      <th>Low</th>\n",
       "      <th>Close</th>\n",
       "      <th>Adj Close</th>\n",
       "      <th>Volume</th>\n",
       "    </tr>\n",
       "  </thead>\n",
       "  <tbody>\n",
       "    <tr>\n",
       "      <th>count</th>\n",
       "      <td>246.000000</td>\n",
       "      <td>246.000000</td>\n",
       "      <td>246.000000</td>\n",
       "      <td>246.000000</td>\n",
       "      <td>246.000000</td>\n",
       "      <td>246.000000</td>\n",
       "    </tr>\n",
       "    <tr>\n",
       "      <th>mean</th>\n",
       "      <td>37225.211525</td>\n",
       "      <td>37478.412745</td>\n",
       "      <td>36856.901574</td>\n",
       "      <td>37154.071607</td>\n",
       "      <td>37154.071607</td>\n",
       "      <td>22800.000000</td>\n",
       "    </tr>\n",
       "    <tr>\n",
       "      <th>std</th>\n",
       "      <td>3931.223302</td>\n",
       "      <td>3778.883336</td>\n",
       "      <td>4090.387119</td>\n",
       "      <td>3937.626025</td>\n",
       "      <td>3937.626025</td>\n",
       "      <td>18725.270495</td>\n",
       "    </tr>\n",
       "    <tr>\n",
       "      <th>min</th>\n",
       "      <td>26499.810547</td>\n",
       "      <td>27462.869141</td>\n",
       "      <td>25638.900391</td>\n",
       "      <td>25981.240234</td>\n",
       "      <td>25981.240234</td>\n",
       "      <td>0.000000</td>\n",
       "    </tr>\n",
       "    <tr>\n",
       "      <th>25%</th>\n",
       "      <td>34244.863281</td>\n",
       "      <td>34558.888672</td>\n",
       "      <td>33951.600586</td>\n",
       "      <td>34217.800781</td>\n",
       "      <td>34217.800781</td>\n",
       "      <td>14025.000000</td>\n",
       "    </tr>\n",
       "    <tr>\n",
       "      <th>50%</th>\n",
       "      <td>38323.064453</td>\n",
       "      <td>38555.494140</td>\n",
       "      <td>38064.070312</td>\n",
       "      <td>38303.888672</td>\n",
       "      <td>38303.888672</td>\n",
       "      <td>18750.000000</td>\n",
       "    </tr>\n",
       "    <tr>\n",
       "      <th>75%</th>\n",
       "      <td>40571.456055</td>\n",
       "      <td>40706.553711</td>\n",
       "      <td>40307.657227</td>\n",
       "      <td>40469.760742</td>\n",
       "      <td>40469.760742</td>\n",
       "      <td>26350.000000</td>\n",
       "    </tr>\n",
       "    <tr>\n",
       "      <th>max</th>\n",
       "      <td>42263.000000</td>\n",
       "      <td>42273.871094</td>\n",
       "      <td>41850.289063</td>\n",
       "      <td>41952.628906</td>\n",
       "      <td>41952.628906</td>\n",
       "      <td>188300.000000</td>\n",
       "    </tr>\n",
       "  </tbody>\n",
       "</table>\n",
       "</div>"
      ],
      "text/plain": [
       "               Open          High           Low         Close     Adj Close  \\\n",
       "count    246.000000    246.000000    246.000000    246.000000    246.000000   \n",
       "mean   37225.211525  37478.412745  36856.901574  37154.071607  37154.071607   \n",
       "std     3931.223302   3778.883336   4090.387119   3937.626025   3937.626025   \n",
       "min    26499.810547  27462.869141  25638.900391  25981.240234  25981.240234   \n",
       "25%    34244.863281  34558.888672  33951.600586  34217.800781  34217.800781   \n",
       "50%    38323.064453  38555.494140  38064.070312  38303.888672  38303.888672   \n",
       "75%    40571.456055  40706.553711  40307.657227  40469.760742  40469.760742   \n",
       "max    42263.000000  42273.871094  41850.289063  41952.628906  41952.628906   \n",
       "\n",
       "              Volume  \n",
       "count     246.000000  \n",
       "mean    22800.000000  \n",
       "std     18725.270495  \n",
       "min         0.000000  \n",
       "25%     14025.000000  \n",
       "50%     18750.000000  \n",
       "75%     26350.000000  \n",
       "max    188300.000000  "
      ]
     },
     "execution_count": 147,
     "metadata": {},
     "output_type": "execute_result"
    }
   ],
   "source": [
    "df.describe()"
   ]
  },
  {
   "cell_type": "markdown",
   "metadata": {},
   "source": [
    "## Using ARIMA"
   ]
  },
  {
   "cell_type": "code",
   "execution_count": 148,
   "metadata": {},
   "outputs": [
    {
     "data": {
      "image/png": "[encoded data removed]",
      "text/plain": [
       "<Figure size 432x288 with 1 Axes>"
      ]
     },
     "metadata": {
      "needs_background": "light"
     },
     "output_type": "display_data"
    }
   ],
   "source": [
    "## Checking for Cross-correlation\n",
    "\n",
    "plt.figure()\n",
    "lag_plot(df['Close'], lag=3)\n",
    "plt.title('BSE Sensex - Autocorrelation plot with lag = 3')\n",
    "plt.show()"
   ]
  },
  {
   "cell_type": "markdown",
   "metadata": {},
   "source": [
    "#### There is an auto correlation for lag=3 (i.e the data of current day is correlated to previous 3 days' data)"
   ]
  },
  {
   "cell_type": "markdown",
   "metadata": {},
   "source": [
    "## Visualize Plot"
   ]
  },
  {
   "cell_type": "code",
   "execution_count": 149,
   "metadata": {},
   "outputs": [
    {
     "data": {
      "image/png": "[encoded data removed]",
      "text/plain": [
       "<Figure size 1080x432 with 1 Axes>"
      ]
     },
     "metadata": {
      "needs_background": "light"
     },
     "output_type": "display_data"
    }
   ],
   "source": [
    "plt.figure(figsize=(15,6))\n",
    "plt.plot(df[\"Close\"])\n",
    "plt.title(\"BSE Sensex stock price over time\")\n",
    "plt.xlabel(\"time\")\n",
    "plt.ylabel(\"price\")\n",
    "plt.show()"
   ]
  },
  {
   "cell_type": "code",
   "execution_count": 150,
   "metadata": {},
   "outputs": [
    {
     "name": "stdout",
     "output_type": "stream",
     "text": [
      "Testing Mean Squared Error is 158845.59647616316\n"
     ]
    }
   ],
   "source": [
    "train_data, test_data = df[0:int(len(df)*0.7)], df[int(len(df)*0.7):]\n",
    "training_data = train_data['Close'].values\n",
    "test_data = test_data['Close'].values\n",
    "history = [x for x in training_data]\n",
    "model_predictions = []\n",
    "N_test_observations = len(test_data)\n",
    "for time_point in range(N_test_observations):\n",
    "    model = ARIMA(history, order=(3,1,0))\n",
    "    model_fit = model.fit(disp=0)\n",
    "    output = model_fit.forecast()\n",
    "    yhat = output[0]\n",
    "    model_predictions.append(yhat)\n",
    "    true_test_value = test_data[time_point]\n",
    "    history.append(true_test_value)\n",
    "MSE_error = mean_squared_error(test_data, model_predictions)\n",
    "print('Testing Mean Squared Error is {}'.format(MSE_error))"
   ]
  },
  {
   "cell_type": "code",
   "execution_count": 152,
   "metadata": {},
   "outputs": [
    {
     "data": {
      "image/png": "[encoded data removed]",
      "text/plain": [
       "<Figure size 1080x432 with 1 Axes>"
      ]
     },
     "metadata": {
      "needs_background": "light"
     },
     "output_type": "display_data"
    }
   ],
   "source": [
    "# Plotting the actual and predicted price\n",
    "\n",
    "plt.figure(figsize=(15,6))\n",
    "test_set_range = df[int(len(df)*0.7):].index\n",
    "plt.plot(test_set_range, model_predictions, color='blue', marker='o', linestyle='dashed',label='Predicted Price')\n",
    "plt.plot(test_set_range, test_data, color='red', label='Actual Price')\n",
    "plt.title('BSE Sensex Prices Prediction - ARIMA')\n",
    "plt.xlabel('Date')\n",
    "plt.ylabel('Prices')\n",
    "plt.legend()\n",
    "plt.show()"
   ]
  },
  {
   "cell_type": "markdown",
   "metadata": {},
   "source": [
    "## Using LSTM"
   ]
  },
  {
   "cell_type": "code",
   "execution_count": 54,
   "metadata": {},
   "outputs": [],
   "source": [
    "stock1 = df[\"Close\"].copy()\n",
    "stock1 = pd.DataFrame(stock1)"
   ]
  },
  {
   "cell_type": "code",
   "execution_count": 55,
   "metadata": {},
   "outputs": [
    {
     "data": {
      "text/html": [
       "<div>\n",
       "<style scoped>\n",
       "    .dataframe tbody tr th:only-of-type {\n",
       "        vertical-align: middle;\n",
       "    }\n",
       "\n",
       "    .dataframe tbody tr th {\n",
       "        vertical-align: top;\n",
       "    }\n",
       "\n",
       "    .dataframe thead th {\n",
       "        text-align: right;\n",
       "    }\n",
       "</style>\n",
       "<table border=\"1\" class=\"dataframe\">\n",
       "  <thead>\n",
       "    <tr style=\"text-align: right;\">\n",
       "      <th></th>\n",
       "      <th>Close</th>\n",
       "    </tr>\n",
       "    <tr>\n",
       "      <th>Date</th>\n",
       "      <th></th>\n",
       "    </tr>\n",
       "  </thead>\n",
       "  <tbody>\n",
       "    <tr>\n",
       "      <th>2019-10-07</th>\n",
       "      <td>37531.980469</td>\n",
       "    </tr>\n",
       "    <tr>\n",
       "      <th>2019-10-09</th>\n",
       "      <td>38177.949219</td>\n",
       "    </tr>\n",
       "    <tr>\n",
       "      <th>2019-10-10</th>\n",
       "      <td>37880.398438</td>\n",
       "    </tr>\n",
       "    <tr>\n",
       "      <th>2019-10-11</th>\n",
       "      <td>38127.078125</td>\n",
       "    </tr>\n",
       "    <tr>\n",
       "      <th>2019-10-14</th>\n",
       "      <td>38214.468750</td>\n",
       "    </tr>\n",
       "    <tr>\n",
       "      <th>...</th>\n",
       "      <td>...</td>\n",
       "    </tr>\n",
       "    <tr>\n",
       "      <th>2020-09-28</th>\n",
       "      <td>37981.628906</td>\n",
       "    </tr>\n",
       "    <tr>\n",
       "      <th>2020-09-29</th>\n",
       "      <td>37973.218750</td>\n",
       "    </tr>\n",
       "    <tr>\n",
       "      <th>2020-09-30</th>\n",
       "      <td>38067.929688</td>\n",
       "    </tr>\n",
       "    <tr>\n",
       "      <th>2020-10-01</th>\n",
       "      <td>38697.050781</td>\n",
       "    </tr>\n",
       "    <tr>\n",
       "      <th>2020-10-05</th>\n",
       "      <td>39125.019531</td>\n",
       "    </tr>\n",
       "  </tbody>\n",
       "</table>\n",
       "<p>246 rows × 1 columns</p>\n",
       "</div>"
      ],
      "text/plain": [
       "                   Close\n",
       "Date                    \n",
       "2019-10-07  37531.980469\n",
       "2019-10-09  38177.949219\n",
       "2019-10-10  37880.398438\n",
       "2019-10-11  38127.078125\n",
       "2019-10-14  38214.468750\n",
       "...                  ...\n",
       "2020-09-28  37981.628906\n",
       "2020-09-29  37973.218750\n",
       "2020-09-30  38067.929688\n",
       "2020-10-01  38697.050781\n",
       "2020-10-05  39125.019531\n",
       "\n",
       "[246 rows x 1 columns]"
      ]
     },
     "execution_count": 55,
     "metadata": {},
     "output_type": "execute_result"
    }
   ],
   "source": [
    "stock1"
   ]
  },
  {
   "cell_type": "code",
   "execution_count": 57,
   "metadata": {},
   "outputs": [],
   "source": [
    "from sklearn.preprocessing import MinMaxScaler\n",
    "\n",
    "scaler = MinMaxScaler(feature_range=(0,1))\n",
    "df1 = scaler.fit_transform(stock1)"
   ]
  },
  {
   "cell_type": "code",
   "execution_count": 58,
   "metadata": {},
   "outputs": [
    {
     "data": {
      "text/plain": [
       "(246, 1)"
      ]
     },
     "execution_count": 58,
     "metadata": {},
     "output_type": "execute_result"
    }
   ],
   "source": [
    "df1.shape"
   ]
  },
  {
   "cell_type": "code",
   "execution_count": 77,
   "metadata": {},
   "outputs": [],
   "source": [
    "## Train test split\n",
    "\n",
    "train_size = int(len(df1)*0.7)\n",
    "test_size = len(df1) - train_size\n",
    "train_data,test_data=df1[0:train_size,:],df1[train_size:len(df1),:1]"
   ]
  },
  {
   "cell_type": "code",
   "execution_count": 78,
   "metadata": {},
   "outputs": [
    {
     "data": {
      "text/plain": [
       "(172, 74)"
      ]
     },
     "execution_count": 78,
     "metadata": {},
     "output_type": "execute_result"
    }
   ],
   "source": [
    "train_size,test_size"
   ]
  },
  {
   "cell_type": "code",
   "execution_count": 79,
   "metadata": {},
   "outputs": [],
   "source": [
    "# convert an array of values into a dataset matrix\n",
    "def create_dataset(dataset, time_step=1):\n",
    "    dataX, dataY = [], []\n",
    "    for i in range(len(dataset)-time_step-1):\n",
    "        a = dataset[i:(i+time_step), 0]   ###i=0, 0,1,2,3-----99   100 \n",
    "        dataX.append(a)\n",
    "        dataY.append(dataset[i + time_step, 0])\n",
    "    return np.array(dataX), np.array(dataY)"
   ]
  },
  {
   "cell_type": "code",
   "execution_count": 80,
   "metadata": {},
   "outputs": [],
   "source": [
    "time_step = 30\n",
    "Xtrain, ytrain = create_dataset(train_data, time_step)\n",
    "Xtest, ytest = create_dataset(test_data, time_step)"
   ]
  },
  {
   "cell_type": "code",
   "execution_count": 81,
   "metadata": {},
   "outputs": [
    {
     "name": "stdout",
     "output_type": "stream",
     "text": [
      "(141, 30)\n",
      "(141,)\n"
     ]
    },
    {
     "data": {
      "text/plain": [
       "(None, None)"
      ]
     },
     "execution_count": 81,
     "metadata": {},
     "output_type": "execute_result"
    }
   ],
   "source": [
    "print(Xtrain.shape), print(ytrain.shape)"
   ]
  },
  {
   "cell_type": "code",
   "execution_count": 82,
   "metadata": {},
   "outputs": [
    {
     "name": "stdout",
     "output_type": "stream",
     "text": [
      "(43, 30)\n",
      "(43,)\n"
     ]
    },
    {
     "data": {
      "text/plain": [
       "(None, None)"
      ]
     },
     "execution_count": 82,
     "metadata": {},
     "output_type": "execute_result"
    }
   ],
   "source": [
    "print(Xtest.shape), print(ytest.shape)"
   ]
  },
  {
   "cell_type": "code",
   "execution_count": 83,
   "metadata": {},
   "outputs": [],
   "source": [
    "# reshape input to be [samples, time steps, features] which is required for LSTM\n",
    "Xtrain =Xtrain.reshape(Xtrain.shape[0],Xtrain.shape[1] , 1)\n",
    "Xtest = Xtest.reshape(Xtest.shape[0],Xtest.shape[1] , 1)"
   ]
  },
  {
   "cell_type": "code",
   "execution_count": 84,
   "metadata": {},
   "outputs": [
    {
     "data": {
      "text/plain": [
       "array([[[0.72321452],\n",
       "        [0.76365989],\n",
       "        [0.74502966],\n",
       "        [0.76047476],\n",
       "        [0.76594645],\n",
       "        [0.78420542],\n",
       "        [0.79002198],\n",
       "        [0.8183896 ],\n",
       "        [0.8338122 ],\n",
       "        [0.81286605],\n",
       "        [0.81881345],\n",
       "        [0.8164068 ],\n",
       "        [0.81876527],\n",
       "        [0.86721323],\n",
       "        [0.88098982],\n",
       "        [0.88582219],\n",
       "        [0.888075  ],\n",
       "        [0.89664844],\n",
       "        [0.89328427],\n",
       "        [0.907156  ],\n",
       "        [0.91867391],\n",
       "        [0.89800389],\n",
       "        [0.89934809],\n",
       "        [0.88500873],\n",
       "        [0.89567918],\n",
       "        [0.90007522],\n",
       "        [0.89553585],\n",
       "        [0.90715086],\n",
       "        [0.91854257],\n",
       "        [0.91375471]],\n",
       "\n",
       "       [[0.76365989],\n",
       "        [0.74502966],\n",
       "        [0.76047476],\n",
       "        [0.76594645],\n",
       "        [0.78420542],\n",
       "        [0.79002198],\n",
       "        [0.8183896 ],\n",
       "        [0.8338122 ],\n",
       "        [0.81286605],\n",
       "        [0.81881345],\n",
       "        [0.8164068 ],\n",
       "        [0.81876527],\n",
       "        [0.86721323],\n",
       "        [0.88098982],\n",
       "        [0.88582219],\n",
       "        [0.888075  ],\n",
       "        [0.89664844],\n",
       "        [0.89328427],\n",
       "        [0.907156  ],\n",
       "        [0.91867391],\n",
       "        [0.89800389],\n",
       "        [0.89934809],\n",
       "        [0.88500873],\n",
       "        [0.89567918],\n",
       "        [0.90007522],\n",
       "        [0.89553585],\n",
       "        [0.90715086],\n",
       "        [0.91854257],\n",
       "        [0.91375471],\n",
       "        [0.90024545]],\n",
       "\n",
       "       [[0.74502966],\n",
       "        [0.76047476],\n",
       "        [0.76594645],\n",
       "        [0.78420542],\n",
       "        [0.79002198],\n",
       "        [0.8183896 ],\n",
       "        [0.8338122 ],\n",
       "        [0.81286605],\n",
       "        [0.81881345],\n",
       "        [0.8164068 ],\n",
       "        [0.81876527],\n",
       "        [0.86721323],\n",
       "        [0.88098982],\n",
       "        [0.88582219],\n",
       "        [0.888075  ],\n",
       "        [0.89664844],\n",
       "        [0.89328427],\n",
       "        [0.907156  ],\n",
       "        [0.91867391],\n",
       "        [0.89800389],\n",
       "        [0.89934809],\n",
       "        [0.88500873],\n",
       "        [0.89567918],\n",
       "        [0.90007522],\n",
       "        [0.89553585],\n",
       "        [0.90715086],\n",
       "        [0.91854257],\n",
       "        [0.91375471],\n",
       "        [0.90024545],\n",
       "        [0.93341854]],\n",
       "\n",
       "       [[0.76047476],\n",
       "        [0.76594645],\n",
       "        [0.78420542],\n",
       "        [0.79002198],\n",
       "        [0.8183896 ],\n",
       "        [0.8338122 ],\n",
       "        [0.81286605],\n",
       "        [0.81881345],\n",
       "        [0.8164068 ],\n",
       "        [0.81876527],\n",
       "        [0.86721323],\n",
       "        [0.88098982],\n",
       "        [0.88582219],\n",
       "        [0.888075  ],\n",
       "        [0.89664844],\n",
       "        [0.89328427],\n",
       "        [0.907156  ],\n",
       "        [0.91867391],\n",
       "        [0.89800389],\n",
       "        [0.89934809],\n",
       "        [0.88500873],\n",
       "        [0.89567918],\n",
       "        [0.90007522],\n",
       "        [0.89553585],\n",
       "        [0.90715086],\n",
       "        [0.91854257],\n",
       "        [0.91375471],\n",
       "        [0.90024545],\n",
       "        [0.93341854],\n",
       "        [0.92916533]],\n",
       "\n",
       "       [[0.76594645],\n",
       "        [0.78420542],\n",
       "        [0.79002198],\n",
       "        [0.8183896 ],\n",
       "        [0.8338122 ],\n",
       "        [0.81286605],\n",
       "        [0.81881345],\n",
       "        [0.8164068 ],\n",
       "        [0.81876527],\n",
       "        [0.86721323],\n",
       "        [0.88098982],\n",
       "        [0.88582219],\n",
       "        [0.888075  ],\n",
       "        [0.89664844],\n",
       "        [0.89328427],\n",
       "        [0.907156  ],\n",
       "        [0.91867391],\n",
       "        [0.89800389],\n",
       "        [0.89934809],\n",
       "        [0.88500873],\n",
       "        [0.89567918],\n",
       "        [0.90007522],\n",
       "        [0.89553585],\n",
       "        [0.90715086],\n",
       "        [0.91854257],\n",
       "        [0.91375471],\n",
       "        [0.90024545],\n",
       "        [0.93341854],\n",
       "        [0.92916533],\n",
       "        [0.94164443]],\n",
       "\n",
       "       [[0.78420542],\n",
       "        [0.79002198],\n",
       "        [0.8183896 ],\n",
       "        [0.8338122 ],\n",
       "        [0.81286605],\n",
       "        [0.81881345],\n",
       "        [0.8164068 ],\n",
       "        [0.81876527],\n",
       "        [0.86721323],\n",
       "        [0.88098982],\n",
       "        [0.88582219],\n",
       "        [0.888075  ],\n",
       "        [0.89664844],\n",
       "        [0.89328427],\n",
       "        [0.907156  ],\n",
       "        [0.91867391],\n",
       "        [0.89800389],\n",
       "        [0.89934809],\n",
       "        [0.88500873],\n",
       "        [0.89567918],\n",
       "        [0.90007522],\n",
       "        [0.89553585],\n",
       "        [0.90715086],\n",
       "        [0.91854257],\n",
       "        [0.91375471],\n",
       "        [0.90024545],\n",
       "        [0.93341854],\n",
       "        [0.92916533],\n",
       "        [0.94164443],\n",
       "        [0.94850435]],\n",
       "\n",
       "       [[0.79002198],\n",
       "        [0.8183896 ],\n",
       "        [0.8338122 ],\n",
       "        [0.81286605],\n",
       "        [0.81881345],\n",
       "        [0.8164068 ],\n",
       "        [0.81876527],\n",
       "        [0.86721323],\n",
       "        [0.88098982],\n",
       "        [0.88582219],\n",
       "        [0.888075  ],\n",
       "        [0.89664844],\n",
       "        [0.89328427],\n",
       "        [0.907156  ],\n",
       "        [0.91867391],\n",
       "        [0.89800389],\n",
       "        [0.89934809],\n",
       "        [0.88500873],\n",
       "        [0.89567918],\n",
       "        [0.90007522],\n",
       "        [0.89553585],\n",
       "        [0.90715086],\n",
       "        [0.91854257],\n",
       "        [0.91375471],\n",
       "        [0.90024545],\n",
       "        [0.93341854],\n",
       "        [0.92916533],\n",
       "        [0.94164443],\n",
       "        [0.94850435],\n",
       "        [0.92744399]],\n",
       "\n",
       "       [[0.8183896 ],\n",
       "        [0.8338122 ],\n",
       "        [0.81286605],\n",
       "        [0.81881345],\n",
       "        [0.8164068 ],\n",
       "        [0.81876527],\n",
       "        [0.86721323],\n",
       "        [0.88098982],\n",
       "        [0.88582219],\n",
       "        [0.888075  ],\n",
       "        [0.89664844],\n",
       "        [0.89328427],\n",
       "        [0.907156  ],\n",
       "        [0.91867391],\n",
       "        [0.89800389],\n",
       "        [0.89934809],\n",
       "        [0.88500873],\n",
       "        [0.89567918],\n",
       "        [0.90007522],\n",
       "        [0.89553585],\n",
       "        [0.90715086],\n",
       "        [0.91854257],\n",
       "        [0.91375471],\n",
       "        [0.90024545],\n",
       "        [0.93341854],\n",
       "        [0.92916533],\n",
       "        [0.94164443],\n",
       "        [0.94850435],\n",
       "        [0.92744399],\n",
       "        [0.92796763]],\n",
       "\n",
       "       [[0.8338122 ],\n",
       "        [0.81286605],\n",
       "        [0.81881345],\n",
       "        [0.8164068 ],\n",
       "        [0.81876527],\n",
       "        [0.86721323],\n",
       "        [0.88098982],\n",
       "        [0.88582219],\n",
       "        [0.888075  ],\n",
       "        [0.89664844],\n",
       "        [0.89328427],\n",
       "        [0.907156  ],\n",
       "        [0.91867391],\n",
       "        [0.89800389],\n",
       "        [0.89934809],\n",
       "        [0.88500873],\n",
       "        [0.89567918],\n",
       "        [0.90007522],\n",
       "        [0.89553585],\n",
       "        [0.90715086],\n",
       "        [0.91854257],\n",
       "        [0.91375471],\n",
       "        [0.90024545],\n",
       "        [0.93341854],\n",
       "        [0.92916533],\n",
       "        [0.94164443],\n",
       "        [0.94850435],\n",
       "        [0.92744399],\n",
       "        [0.92796763],\n",
       "        [0.92003327]],\n",
       "\n",
       "       [[0.81286605],\n",
       "        [0.81881345],\n",
       "        [0.8164068 ],\n",
       "        [0.81876527],\n",
       "        [0.86721323],\n",
       "        [0.88098982],\n",
       "        [0.88582219],\n",
       "        [0.888075  ],\n",
       "        [0.89664844],\n",
       "        [0.89328427],\n",
       "        [0.907156  ],\n",
       "        [0.91867391],\n",
       "        [0.89800389],\n",
       "        [0.89934809],\n",
       "        [0.88500873],\n",
       "        [0.89567918],\n",
       "        [0.90007522],\n",
       "        [0.89553585],\n",
       "        [0.90715086],\n",
       "        [0.91854257],\n",
       "        [0.91375471],\n",
       "        [0.90024545],\n",
       "        [0.93341854],\n",
       "        [0.92916533],\n",
       "        [0.94164443],\n",
       "        [0.94850435],\n",
       "        [0.92744399],\n",
       "        [0.92796763],\n",
       "        [0.92003327],\n",
       "        [0.93098034]]])"
      ]
     },
     "execution_count": 84,
     "metadata": {},
     "output_type": "execute_result"
    }
   ],
   "source": [
    "Xtrain[:10]"
   ]
  },
  {
   "cell_type": "code",
   "execution_count": 85,
   "metadata": {},
   "outputs": [],
   "source": [
    "\n",
    "### Create the Stacked LSTM model\n",
    "from tensorflow.keras.models import Sequential\n",
    "from tensorflow.keras.layers import Dense\n",
    "from tensorflow.keras.layers import LSTM"
   ]
  },
  {
   "cell_type": "code",
   "execution_count": 86,
   "metadata": {},
   "outputs": [],
   "source": [
    "\n",
    "model=Sequential()\n",
    "model.add(LSTM(50,return_sequences=True,input_shape=(30,1)))\n",
    "model.add(LSTM(50,return_sequences=True))\n",
    "model.add(LSTM(50))\n",
    "model.add(Dense(1))\n",
    "model.compile(loss='mean_squared_error',optimizer='adam')"
   ]
  },
  {
   "cell_type": "code",
   "execution_count": 87,
   "metadata": {},
   "outputs": [
    {
     "name": "stdout",
     "output_type": "stream",
     "text": [
      "Model: \"sequential_1\"\n",
      "_________________________________________________________________\n",
      "Layer (type)                 Output Shape              Param #   \n",
      "=================================================================\n",
      "lstm_3 (LSTM)                (None, 30, 50)            10400     \n",
      "_________________________________________________________________\n",
      "lstm_4 (LSTM)                (None, 30, 50)            20200     \n",
      "_________________________________________________________________\n",
      "lstm_5 (LSTM)                (None, 50)                20200     \n",
      "_________________________________________________________________\n",
      "dense_1 (Dense)              (None, 1)                 51        \n",
      "=================================================================\n",
      "Total params: 50,851\n",
      "Trainable params: 50,851\n",
      "Non-trainable params: 0\n",
      "_________________________________________________________________\n"
     ]
    }
   ],
   "source": [
    "model.summary()"
   ]
  },
  {
   "cell_type": "code",
   "execution_count": 88,
   "metadata": {},
   "outputs": [
    {
     "name": "stdout",
     "output_type": "stream",
     "text": [
      "Epoch 1/100\n",
      "9/9 [==============================] - 1s 123ms/step - loss: 0.2332 - val_loss: 0.0106\n",
      "Epoch 2/100\n",
      "9/9 [==============================] - 0s 27ms/step - loss: 0.0404 - val_loss: 0.0305\n",
      "Epoch 3/100\n",
      "9/9 [==============================] - 0s 26ms/step - loss: 0.0357 - val_loss: 0.0027\n",
      "Epoch 4/100\n",
      "9/9 [==============================] - 0s 26ms/step - loss: 0.0362 - val_loss: 0.0094\n",
      "Epoch 5/100\n",
      "9/9 [==============================] - 0s 26ms/step - loss: 0.0296 - val_loss: 0.0028\n",
      "Epoch 6/100\n",
      "9/9 [==============================] - 0s 27ms/step - loss: 0.0273 - val_loss: 0.0022\n",
      "Epoch 7/100\n",
      "9/9 [==============================] - 0s 26ms/step - loss: 0.0246 - val_loss: 0.0163\n",
      "Epoch 8/100\n",
      "9/9 [==============================] - 0s 27ms/step - loss: 0.0235 - val_loss: 0.0021\n",
      "Epoch 9/100\n",
      "9/9 [==============================] - 0s 34ms/step - loss: 0.0204 - val_loss: 0.0039\n",
      "Epoch 10/100\n",
      "9/9 [==============================] - 0s 25ms/step - loss: 0.0170 - val_loss: 0.0102\n",
      "Epoch 11/100\n",
      "9/9 [==============================] - 0s 29ms/step - loss: 0.0171 - val_loss: 0.0072\n",
      "Epoch 12/100\n",
      "9/9 [==============================] - 0s 26ms/step - loss: 0.0174 - val_loss: 0.0094\n",
      "Epoch 13/100\n",
      "9/9 [==============================] - 0s 25ms/step - loss: 0.0125 - val_loss: 0.0084\n",
      "Epoch 14/100\n",
      "9/9 [==============================] - 0s 25ms/step - loss: 0.0120 - val_loss: 0.0025\n",
      "Epoch 15/100\n",
      "9/9 [==============================] - 0s 25ms/step - loss: 0.0096 - val_loss: 0.0022\n",
      "Epoch 16/100\n",
      "9/9 [==============================] - 0s 25ms/step - loss: 0.0089 - val_loss: 0.0022\n",
      "Epoch 17/100\n",
      "9/9 [==============================] - 0s 25ms/step - loss: 0.0081 - val_loss: 0.0016\n",
      "Epoch 18/100\n",
      "9/9 [==============================] - 0s 25ms/step - loss: 0.0082 - val_loss: 0.0017\n",
      "Epoch 19/100\n",
      "9/9 [==============================] - 0s 26ms/step - loss: 0.0069 - val_loss: 0.0024\n",
      "Epoch 20/100\n",
      "9/9 [==============================] - 0s 26ms/step - loss: 0.0069 - val_loss: 0.0036\n",
      "Epoch 21/100\n",
      "9/9 [==============================] - 0s 26ms/step - loss: 0.0062 - val_loss: 0.0019\n",
      "Epoch 22/100\n",
      "9/9 [==============================] - 0s 26ms/step - loss: 0.0058 - val_loss: 0.0034\n",
      "Epoch 23/100\n",
      "9/9 [==============================] - 0s 25ms/step - loss: 0.0062 - val_loss: 0.0018\n",
      "Epoch 24/100\n",
      "9/9 [==============================] - 0s 25ms/step - loss: 0.0069 - val_loss: 0.0016\n",
      "Epoch 25/100\n",
      "9/9 [==============================] - 0s 24ms/step - loss: 0.0063 - val_loss: 0.0033\n",
      "Epoch 26/100\n",
      "9/9 [==============================] - 0s 25ms/step - loss: 0.0051 - val_loss: 0.0034\n",
      "Epoch 27/100\n",
      "9/9 [==============================] - 0s 28ms/step - loss: 0.0054 - val_loss: 0.0020\n",
      "Epoch 28/100\n",
      "9/9 [==============================] - 0s 28ms/step - loss: 0.0047 - val_loss: 0.0018\n",
      "Epoch 29/100\n",
      "9/9 [==============================] - 0s 28ms/step - loss: 0.0063 - val_loss: 0.0022\n",
      "Epoch 30/100\n",
      "9/9 [==============================] - 0s 25ms/step - loss: 0.0056 - val_loss: 0.0077\n",
      "Epoch 31/100\n",
      "9/9 [==============================] - 0s 25ms/step - loss: 0.0048 - val_loss: 0.0045\n",
      "Epoch 32/100\n",
      "9/9 [==============================] - 0s 25ms/step - loss: 0.0044 - val_loss: 0.0037\n",
      "Epoch 33/100\n",
      "9/9 [==============================] - 0s 26ms/step - loss: 0.0050 - val_loss: 0.0056\n",
      "Epoch 34/100\n",
      "9/9 [==============================] - 0s 26ms/step - loss: 0.0049 - val_loss: 0.0072\n",
      "Epoch 35/100\n",
      "9/9 [==============================] - 0s 27ms/step - loss: 0.0054 - val_loss: 0.0057\n",
      "Epoch 36/100\n",
      "9/9 [==============================] - 0s 26ms/step - loss: 0.0046 - val_loss: 0.0029\n",
      "Epoch 37/100\n",
      "9/9 [==============================] - 0s 26ms/step - loss: 0.0045 - val_loss: 0.0055\n",
      "Epoch 38/100\n",
      "9/9 [==============================] - 0s 25ms/step - loss: 0.0040 - val_loss: 0.0042\n",
      "Epoch 39/100\n",
      "9/9 [==============================] - 0s 25ms/step - loss: 0.0040 - val_loss: 0.0031\n",
      "Epoch 40/100\n",
      "9/9 [==============================] - 0s 25ms/step - loss: 0.0040 - val_loss: 0.0024\n",
      "Epoch 41/100\n",
      "9/9 [==============================] - 0s 25ms/step - loss: 0.0036 - val_loss: 0.0023\n",
      "Epoch 42/100\n",
      "9/9 [==============================] - 0s 25ms/step - loss: 0.0037 - val_loss: 0.0036\n",
      "Epoch 43/100\n",
      "9/9 [==============================] - 0s 24ms/step - loss: 0.0036 - val_loss: 0.0037\n",
      "Epoch 44/100\n",
      "9/9 [==============================] - 0s 25ms/step - loss: 0.0038 - val_loss: 0.0034\n",
      "Epoch 45/100\n",
      "9/9 [==============================] - 0s 27ms/step - loss: 0.0038 - val_loss: 0.0024\n",
      "Epoch 46/100\n",
      "9/9 [==============================] - 0s 28ms/step - loss: 0.0038 - val_loss: 0.0041\n",
      "Epoch 47/100\n",
      "9/9 [==============================] - 0s 24ms/step - loss: 0.0043 - val_loss: 0.0025\n",
      "Epoch 48/100\n",
      "9/9 [==============================] - 0s 26ms/step - loss: 0.0046 - val_loss: 0.0022\n",
      "Epoch 49/100\n",
      "9/9 [==============================] - 0s 26ms/step - loss: 0.0053 - val_loss: 0.0040\n",
      "Epoch 50/100\n",
      "9/9 [==============================] - 0s 26ms/step - loss: 0.0046 - val_loss: 0.0072\n",
      "Epoch 51/100\n",
      "9/9 [==============================] - 0s 27ms/step - loss: 0.0042 - val_loss: 0.0053\n",
      "Epoch 52/100\n",
      "9/9 [==============================] - 0s 25ms/step - loss: 0.0038 - val_loss: 0.0024\n",
      "Epoch 53/100\n",
      "9/9 [==============================] - 0s 26ms/step - loss: 0.0035 - val_loss: 0.0026\n",
      "Epoch 54/100\n",
      "9/9 [==============================] - 0s 24ms/step - loss: 0.0036 - val_loss: 0.0030\n",
      "Epoch 55/100\n",
      "9/9 [==============================] - 0s 23ms/step - loss: 0.0044 - val_loss: 0.0039\n",
      "Epoch 56/100\n",
      "9/9 [==============================] - 0s 23ms/step - loss: 0.0035 - val_loss: 0.0033\n",
      "Epoch 57/100\n",
      "9/9 [==============================] - 0s 25ms/step - loss: 0.0034 - val_loss: 0.0030\n",
      "Epoch 58/100\n",
      "9/9 [==============================] - 0s 24ms/step - loss: 0.0038 - val_loss: 0.0062\n",
      "Epoch 59/100\n",
      "9/9 [==============================] - 0s 25ms/step - loss: 0.0038 - val_loss: 0.0022\n",
      "Epoch 60/100\n",
      "9/9 [==============================] - 0s 26ms/step - loss: 0.0037 - val_loss: 0.0021\n",
      "Epoch 61/100\n",
      "9/9 [==============================] - 0s 26ms/step - loss: 0.0036 - val_loss: 0.0022\n",
      "Epoch 62/100\n",
      "9/9 [==============================] - 0s 27ms/step - loss: 0.0035 - val_loss: 0.0029\n",
      "Epoch 63/100\n",
      "9/9 [==============================] - 0s 26ms/step - loss: 0.0032 - val_loss: 0.0023\n",
      "Epoch 64/100\n",
      "9/9 [==============================] - 0s 26ms/step - loss: 0.0036 - val_loss: 0.0028\n",
      "Epoch 65/100\n",
      "9/9 [==============================] - 0s 27ms/step - loss: 0.0034 - val_loss: 0.0032\n",
      "Epoch 66/100\n",
      "9/9 [==============================] - 0s 26ms/step - loss: 0.0034 - val_loss: 0.0044\n",
      "Epoch 67/100\n",
      "9/9 [==============================] - 0s 26ms/step - loss: 0.0042 - val_loss: 0.0021\n",
      "Epoch 68/100\n",
      "9/9 [==============================] - 0s 26ms/step - loss: 0.0037 - val_loss: 0.0043\n",
      "Epoch 69/100\n",
      "9/9 [==============================] - 0s 36ms/step - loss: 0.0034 - val_loss: 0.0039\n",
      "Epoch 70/100\n",
      "9/9 [==============================] - 0s 27ms/step - loss: 0.0043 - val_loss: 0.0043\n",
      "Epoch 71/100\n",
      "9/9 [==============================] - 0s 28ms/step - loss: 0.0035 - val_loss: 0.0022\n",
      "Epoch 72/100\n",
      "9/9 [==============================] - 0s 26ms/step - loss: 0.0038 - val_loss: 0.0023\n",
      "Epoch 73/100\n",
      "9/9 [==============================] - 0s 26ms/step - loss: 0.0034 - val_loss: 0.0022\n",
      "Epoch 74/100\n",
      "9/9 [==============================] - 0s 25ms/step - loss: 0.0039 - val_loss: 0.0041\n",
      "Epoch 75/100\n",
      "9/9 [==============================] - 0s 26ms/step - loss: 0.0038 - val_loss: 0.0041\n",
      "Epoch 76/100\n",
      "9/9 [==============================] - 0s 33ms/step - loss: 0.0042 - val_loss: 0.0074\n",
      "Epoch 77/100\n",
      "9/9 [==============================] - 0s 27ms/step - loss: 0.0046 - val_loss: 0.0053\n",
      "Epoch 78/100\n",
      "9/9 [==============================] - 0s 26ms/step - loss: 0.0038 - val_loss: 0.0022\n",
      "Epoch 79/100\n",
      "9/9 [==============================] - 0s 25ms/step - loss: 0.0033 - val_loss: 0.0031\n",
      "Epoch 80/100\n",
      "9/9 [==============================] - 0s 25ms/step - loss: 0.0032 - val_loss: 0.0038\n",
      "Epoch 81/100\n",
      "9/9 [==============================] - 0s 26ms/step - loss: 0.0032 - val_loss: 0.0036\n",
      "Epoch 82/100\n",
      "9/9 [==============================] - 0s 25ms/step - loss: 0.0028 - val_loss: 0.0024\n",
      "Epoch 83/100\n",
      "9/9 [==============================] - 0s 28ms/step - loss: 0.0031 - val_loss: 0.0030\n"
     ]
    },
    {
     "name": "stdout",
     "output_type": "stream",
     "text": [
      "Epoch 84/100\n",
      "9/9 [==============================] - 0s 24ms/step - loss: 0.0032 - val_loss: 0.0025\n",
      "Epoch 85/100\n",
      "9/9 [==============================] - 0s 23ms/step - loss: 0.0042 - val_loss: 0.0023\n",
      "Epoch 86/100\n",
      "9/9 [==============================] - 0s 24ms/step - loss: 0.0041 - val_loss: 0.0047\n",
      "Epoch 87/100\n",
      "9/9 [==============================] - 0s 26ms/step - loss: 0.0036 - val_loss: 0.0034\n",
      "Epoch 88/100\n",
      "9/9 [==============================] - 0s 25ms/step - loss: 0.0032 - val_loss: 0.0048\n",
      "Epoch 89/100\n",
      "9/9 [==============================] - 0s 26ms/step - loss: 0.0039 - val_loss: 0.0054\n",
      "Epoch 90/100\n",
      "9/9 [==============================] - 0s 28ms/step - loss: 0.0031 - val_loss: 0.0048\n",
      "Epoch 91/100\n",
      "9/9 [==============================] - 0s 28ms/step - loss: 0.0036 - val_loss: 0.0050\n",
      "Epoch 92/100\n",
      "9/9 [==============================] - 0s 30ms/step - loss: 0.0033 - val_loss: 0.0040\n",
      "Epoch 93/100\n",
      "9/9 [==============================] - 0s 30ms/step - loss: 0.0031 - val_loss: 0.0028\n",
      "Epoch 94/100\n",
      "9/9 [==============================] - 0s 28ms/step - loss: 0.0032 - val_loss: 0.0023\n",
      "Epoch 95/100\n",
      "9/9 [==============================] - 0s 30ms/step - loss: 0.0031 - val_loss: 0.0025\n",
      "Epoch 96/100\n",
      "9/9 [==============================] - 0s 28ms/step - loss: 0.0029 - val_loss: 0.0024\n",
      "Epoch 97/100\n",
      "9/9 [==============================] - 0s 27ms/step - loss: 0.0032 - val_loss: 0.0025\n",
      "Epoch 98/100\n",
      "9/9 [==============================] - 0s 25ms/step - loss: 0.0043 - val_loss: 0.0025\n",
      "Epoch 99/100\n",
      "9/9 [==============================] - 0s 26ms/step - loss: 0.0039 - val_loss: 0.0022\n",
      "Epoch 100/100\n",
      "9/9 [==============================] - 0s 24ms/step - loss: 0.0050 - val_loss: 0.0022\n"
     ]
    },
    {
     "data": {
      "text/plain": [
       "<tensorflow.python.keras.callbacks.History at 0x7efe045096d0>"
      ]
     },
     "execution_count": 88,
     "metadata": {},
     "output_type": "execute_result"
    }
   ],
   "source": [
    "model.fit(Xtrain,ytrain,validation_data=(Xtest,ytest),epochs=100,batch_size=16,verbose=1)"
   ]
  },
  {
   "cell_type": "code",
   "execution_count": 89,
   "metadata": {},
   "outputs": [],
   "source": [
    "### Prediction and check performance metrics\n",
    "train_predict=model.predict(Xtrain)\n",
    "test_predict=model.predict(Xtest)"
   ]
  },
  {
   "cell_type": "code",
   "execution_count": 90,
   "metadata": {},
   "outputs": [],
   "source": [
    "### Transform back to original form\n",
    "train_predict=scaler.inverse_transform(train_predict)\n",
    "test_predict=scaler.inverse_transform(test_predict)"
   ]
  },
  {
   "cell_type": "code",
   "execution_count": 91,
   "metadata": {},
   "outputs": [
    {
     "data": {
      "text/plain": [
       "37036.475545950365"
      ]
     },
     "execution_count": 91,
     "metadata": {},
     "output_type": "execute_result"
    }
   ],
   "source": [
    "### Calculate RMSE performance metrics\n",
    "import math\n",
    "from sklearn.metrics import mean_squared_error\n",
    "math.sqrt(mean_squared_error(ytrain,train_predict))"
   ]
  },
  {
   "cell_type": "code",
   "execution_count": 92,
   "metadata": {},
   "outputs": [
    {
     "data": {
      "text/plain": [
       "38338.64238320223"
      ]
     },
     "execution_count": 92,
     "metadata": {},
     "output_type": "execute_result"
    }
   ],
   "source": [
    "### Test Data RMSE\n",
    "math.sqrt(mean_squared_error(ytest,test_predict))"
   ]
  },
  {
   "cell_type": "code",
   "execution_count": 153,
   "metadata": {},
   "outputs": [
    {
     "data": {
      "image/png": "[encoded data removed]",
      "text/plain": [
       "<Figure size 1080x432 with 1 Axes>"
      ]
     },
     "metadata": {
      "needs_background": "light"
     },
     "output_type": "display_data"
    }
   ],
   "source": [
    "plt.figure(figsize=(15,6))\n",
    "plt.plot(scaler.inverse_transform(df1[201:,]),color='red', label='Actual Price')\n",
    "plt.plot(test_predict, color='blue', marker='o', linestyle='dashed',label='Predicted Price')\n",
    "plt.title('BSE Sensex Prices Prediction - LSTM Model')\n",
    "plt.ylabel('Prices')\n",
    "plt.legend()\n",
    "plt.show()"
   ]
  },
  {
   "cell_type": "markdown",
   "metadata": {},
   "source": [
    "## ARIMA provides a better result than a LSTM model."
   ]
  },
  {
   "cell_type": "code",
   "execution_count": null,
   "metadata": {},
   "outputs": [],
   "source": []
  }
 ],
 "metadata": {
  "kernelspec": {
   "display_name": "Python 3",
   "language": "python",
   "name": "python3"
  },
  "language_info": {
   "codemirror_mode": {
    "name": "ipython",
    "version": 3
   },
   "file_extension": ".py",
   "mimetype": "text/x-python",
   "name": "python",
   "nbconvert_exporter": "python",
   "pygments_lexer": "ipython3",
   "version": "3.7.7"
  }
 },
 "nbformat": 4,
 "nbformat_minor": 4
}
